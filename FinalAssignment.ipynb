{
 "cells": [
  {
   "cell_type": "markdown",
   "id": "b4dcd1ef-2536-4d21-afe2-6c700f5b413d",
   "metadata": {},
   "source": [
    "**Capstone Project**"
   ]
  },
  {
   "cell_type": "markdown",
   "id": "c40ac966-994b-4b07-8c53-93e9c980bd2a",
   "metadata": {},
   "source": [
    "in this project we are going to write the final assignment of the project"
   ]
  },
  {
   "cell_type": "code",
   "execution_count": null,
   "id": "dbf20fd6-3e7c-46b1-b03c-fd45b63dab9d",
   "metadata": {},
   "outputs": [],
   "source": []
  }
 ],
 "metadata": {
  "kernelspec": {
   "display_name": "Coursera",
   "language": "python",
   "name": "coursera"
  },
  "language_info": {
   "codemirror_mode": {
    "name": "ipython",
    "version": 3
   },
   "file_extension": ".py",
   "mimetype": "text/x-python",
   "name": "python",
   "nbconvert_exporter": "python",
   "pygments_lexer": "ipython3",
   "version": "3.8.5"
  }
 },
 "nbformat": 4,
 "nbformat_minor": 5
}
